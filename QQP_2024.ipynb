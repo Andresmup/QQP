{
 "cells": [
  {
   "cell_type": "code",
   "execution_count": 1,
   "id": "f3885669-832e-4d36-91ec-f7f80033ae88",
   "metadata": {
    "tags": []
   },
   "outputs": [],
   "source": [
    "#!pip install --upgrade s3fs"
   ]
  },
  {
   "cell_type": "code",
   "execution_count": null,
   "id": "9f5fa035-c7af-49f9-bf4d-06ffcb86c76c",
   "metadata": {},
   "outputs": [],
   "source": [
    "#!wget -O qqp_2024.rar https://datos.profeco.gob.mx/datos_abiertos/file.php?t=369eb99b339bc38400030a3a08a99835"
   ]
  },
  {
   "cell_type": "code",
   "execution_count": null,
   "id": "48d02fea-f9af-4a82-bb97-186488d2433d",
   "metadata": {},
   "outputs": [],
   "source": [
    "#!sudo yum update\n",
    "#!sudo yum install -y unrar"
   ]
  },
  {
   "cell_type": "code",
   "execution_count": null,
   "id": "9b27bdaa-1194-4be8-96e6-3cbb0ac89830",
   "metadata": {},
   "outputs": [],
   "source": [
    "#!unrar x archivo.rar"
   ]
  },
  {
   "cell_type": "code",
   "execution_count": 1,
   "id": "306f3d87-2255-47b1-b784-1c3d16ef823f",
   "metadata": {
    "tags": []
   },
   "outputs": [
    {
     "name": "stdout",
     "output_type": "stream",
     "text": [
      "sagemaker.config INFO - Not applying SDK defaults from location: /etc/xdg/sagemaker/config.yaml\n",
      "sagemaker.config INFO - Not applying SDK defaults from location: /home/ec2-user/.config/sagemaker/config.yaml\n"
     ]
    }
   ],
   "source": [
    "import boto3\n",
    "from sagemaker import get_execution_role\n",
    "\n",
    "import pandas as pd\n",
    "import io\n",
    "\n",
    "# Initialize an S3 client using boto3\n",
    "s3 = boto3.client('s3')\n",
    "\n",
    "#Get the role\n",
    "role = get_execution_role()"
   ]
  },
  {
   "cell_type": "code",
   "execution_count": 2,
   "id": "93b04661-2c40-469d-8882-1f2e68d37b6d",
   "metadata": {
    "tags": []
   },
   "outputs": [],
   "source": [
    "#Define the bucket with the qqp csv\n",
    "source_bucket = \"bucket-qqp\"\n",
    "\n",
    "#Define prefix of s3\n",
    "prefix = \"QQP_2024\""
   ]
  },
  {
   "cell_type": "code",
   "execution_count": 3,
   "id": "de3d2e67-05eb-41f6-aa80-df6205a9996f",
   "metadata": {
    "tags": []
   },
   "outputs": [],
   "source": [
    "#Setup a function to retrieve csv from csv using boto3\n",
    "def get_csv_from_s3(source_bucket, prefix, filename, colum_name:None):\n",
    "    \n",
    "    #Path to the file in the bucket\n",
    "    source_file = '{}/{}'.format(prefix, filename)\n",
    "    \n",
    "    # Retrieve the CSV file from the source S3 bucket\n",
    "    obj = s3.get_object(Bucket=source_bucket, Key=source_file)\n",
    "\n",
    "    # Read the CSV file into a pandas DataFrame\n",
    "    return pd.read_csv(io.BytesIO(obj['Body'].read()), names=column_name, header=None)"
   ]
  },
  {
   "cell_type": "code",
   "execution_count": 4,
   "id": "9ec48575-c695-4b12-a656-dafefd87a396",
   "metadata": {
    "tags": []
   },
   "outputs": [],
   "source": [
    "column_name = [\"PRODUCTO\",\"PRESENTACION\",\"MARCA\",\"CATEGORIA\",\"CATALOGO\",\"PRECIO\",\"FECHA_REGISTRO\",\"CADENA_COMERCIAL\",\n",
    "               \"GIRO\",\"NOMBRE_COMERCIAL\",\"DIRECCION\", \"ESTADO\",\"MUNICIPIO\",\"LATITUD\",\"LONGITUD\"]"
   ]
  },
  {
   "cell_type": "code",
   "execution_count": 5,
   "id": "c8566756-758b-4dd0-b1a9-b2cfb0da4e5e",
   "metadata": {
    "tags": []
   },
   "outputs": [],
   "source": [
    "df_01_2024_P1 = get_csv_from_s3(source_bucket,prefix,'01-2024_01.csv',column_name)\n",
    "df_01_2024_P2 = get_csv_from_s3(source_bucket,prefix,'01-2024_02.csv',column_name)"
   ]
  },
  {
   "cell_type": "code",
   "execution_count": 7,
   "id": "2b8c41e6-3c7a-4937-9976-cdb093cee1f9",
   "metadata": {
    "tags": []
   },
   "outputs": [],
   "source": [
    "df_02_2024_P1 = get_csv_from_s3(source_bucket,prefix,'02-2024_01.csv',column_name)\n",
    "df_02_2024_P2 = get_csv_from_s3(source_bucket,prefix,'02-2024_02.csv',column_name)"
   ]
  },
  {
   "cell_type": "code",
   "execution_count": 8,
   "id": "fad88599-3a81-43b6-879d-da359212b7af",
   "metadata": {
    "tags": []
   },
   "outputs": [],
   "source": [
    "df_03_2024_P1 = get_csv_from_s3(source_bucket,prefix,'03-2024_01.csv',column_name)\n",
    "df_03_2024_P2 = get_csv_from_s3(source_bucket,prefix,'03-2024_02.csv',column_name)"
   ]
  },
  {
   "cell_type": "code",
   "execution_count": 9,
   "id": "ed8070da-37e5-4071-ad75-dae657696410",
   "metadata": {
    "tags": []
   },
   "outputs": [],
   "source": [
    "df_04_2024_P1 = get_csv_from_s3(source_bucket,prefix,'04-2024_01.csv',column_name)\n",
    "df_04_2024_P2 = get_csv_from_s3(source_bucket,prefix,'04-2024_02.csv',column_name)"
   ]
  },
  {
   "cell_type": "code",
   "execution_count": 10,
   "id": "3fa3672e-f160-431b-9a2e-ae1c77c811df",
   "metadata": {
    "tags": []
   },
   "outputs": [],
   "source": [
    "df_05_2024_P1 = get_csv_from_s3(source_bucket,prefix,'05-2024_01.csv',column_name)\n",
    "df_05_2024_P2 = get_csv_from_s3(source_bucket,prefix,'05-2024_02.csv',column_name)"
   ]
  },
  {
   "cell_type": "code",
   "execution_count": 11,
   "id": "9fc88754-a89c-4876-86c1-4c58235d472b",
   "metadata": {
    "tags": []
   },
   "outputs": [
    {
     "data": {
      "text/html": [
       "<div>\n",
       "<style scoped>\n",
       "    .dataframe tbody tr th:only-of-type {\n",
       "        vertical-align: middle;\n",
       "    }\n",
       "\n",
       "    .dataframe tbody tr th {\n",
       "        vertical-align: top;\n",
       "    }\n",
       "\n",
       "    .dataframe thead th {\n",
       "        text-align: right;\n",
       "    }\n",
       "</style>\n",
       "<table border=\"1\" class=\"dataframe\">\n",
       "  <thead>\n",
       "    <tr style=\"text-align: right;\">\n",
       "      <th></th>\n",
       "      <th>PRODUCTO</th>\n",
       "      <th>PRESENTACION</th>\n",
       "      <th>MARCA</th>\n",
       "      <th>CATEGORIA</th>\n",
       "      <th>CATALOGO</th>\n",
       "      <th>PRECIO</th>\n",
       "      <th>FECHA_REGISTRO</th>\n",
       "      <th>CADENA_COMERCIAL</th>\n",
       "      <th>GIRO</th>\n",
       "      <th>NOMBRE_COMERCIAL</th>\n",
       "      <th>DIRECCION</th>\n",
       "      <th>ESTADO</th>\n",
       "      <th>MUNICIPIO</th>\n",
       "      <th>LATITUD</th>\n",
       "      <th>LONGITUD</th>\n",
       "    </tr>\n",
       "  </thead>\n",
       "  <tbody>\n",
       "    <tr>\n",
       "      <th>0</th>\n",
       "      <td>ASPIRADORAS</td>\n",
       "      <td>HV-120 KG3 A. POTENCIA 400 WATTS</td>\n",
       "      <td>KOBLENZ. ASPIRADORA MANUAL DE ALTO PODER</td>\n",
       "      <td>APARATOS ELECTRICOS</td>\n",
       "      <td>ELECTRODOMESTICOS</td>\n",
       "      <td>899.0</td>\n",
       "      <td>2024-01-02</td>\n",
       "      <td>COPPEL</td>\n",
       "      <td>TIENDA DE ELECTRODOMÉSTICOS</td>\n",
       "      <td>COPPEL SUCURSAL ESPACIO AGUASCALIENTES</td>\n",
       "      <td>TECNOLOGICO 120, INT. CENTRO COMERCIAL ESPACIO...</td>\n",
       "      <td>AGUASCALIENTES</td>\n",
       "      <td>AGUASCALIENTES</td>\n",
       "      <td>21.87949</td>\n",
       "      <td>-102.260011</td>\n",
       "    </tr>\n",
       "    <tr>\n",
       "      <th>1</th>\n",
       "      <td>BARRA DE SONIDO</td>\n",
       "      <td>S40 Q. BLUETOOTH, USB. POTENCIA 300 W. SONIDO 2.1</td>\n",
       "      <td>LG</td>\n",
       "      <td>APARATOS ELECTRONICOS</td>\n",
       "      <td>ELECTRODOMESTICOS</td>\n",
       "      <td>4299.0</td>\n",
       "      <td>2024-01-02</td>\n",
       "      <td>COPPEL</td>\n",
       "      <td>TIENDA DE ELECTRODOMÉSTICOS</td>\n",
       "      <td>COPPEL SUCURSAL ESPACIO AGUASCALIENTES</td>\n",
       "      <td>TECNOLOGICO 120, INT. CENTRO COMERCIAL ESPACIO...</td>\n",
       "      <td>AGUASCALIENTES</td>\n",
       "      <td>AGUASCALIENTES</td>\n",
       "      <td>21.87949</td>\n",
       "      <td>-102.260011</td>\n",
       "    </tr>\n",
       "    <tr>\n",
       "      <th>2</th>\n",
       "      <td>BARRA DE SONIDO</td>\n",
       "      <td>HT-S20R. BLUETOOTH, USB. POTENCIA 400 W. SONID...</td>\n",
       "      <td>SONY</td>\n",
       "      <td>APARATOS ELECTRONICOS</td>\n",
       "      <td>ELECTRODOMESTICOS</td>\n",
       "      <td>4499.0</td>\n",
       "      <td>2024-01-02</td>\n",
       "      <td>COPPEL</td>\n",
       "      <td>TIENDA DE ELECTRODOMÉSTICOS</td>\n",
       "      <td>COPPEL SUCURSAL ESPACIO AGUASCALIENTES</td>\n",
       "      <td>TECNOLOGICO 120, INT. CENTRO COMERCIAL ESPACIO...</td>\n",
       "      <td>AGUASCALIENTES</td>\n",
       "      <td>AGUASCALIENTES</td>\n",
       "      <td>21.87949</td>\n",
       "      <td>-102.260011</td>\n",
       "    </tr>\n",
       "    <tr>\n",
       "      <th>3</th>\n",
       "      <td>BARRA DE SONIDO</td>\n",
       "      <td>S-400 O HT-S400. BLUETOOTH. USB. POTENCIA 330 ...</td>\n",
       "      <td>SONY</td>\n",
       "      <td>APARATOS ELECTRONICOS</td>\n",
       "      <td>ELECTRODOMESTICOS</td>\n",
       "      <td>4899.0</td>\n",
       "      <td>2024-01-02</td>\n",
       "      <td>COPPEL</td>\n",
       "      <td>TIENDA DE ELECTRODOMÉSTICOS</td>\n",
       "      <td>COPPEL SUCURSAL ESPACIO AGUASCALIENTES</td>\n",
       "      <td>TECNOLOGICO 120, INT. CENTRO COMERCIAL ESPACIO...</td>\n",
       "      <td>AGUASCALIENTES</td>\n",
       "      <td>AGUASCALIENTES</td>\n",
       "      <td>21.87949</td>\n",
       "      <td>-102.260011</td>\n",
       "    </tr>\n",
       "    <tr>\n",
       "      <th>4</th>\n",
       "      <td>BATIDORAS</td>\n",
       "      <td>FPSTHM3532 O FPSTHM3532-013. MANUAL. 6 VELOCID...</td>\n",
       "      <td>OSTER</td>\n",
       "      <td>APARATOS ELECTRICOS</td>\n",
       "      <td>ELECTRODOMESTICOS</td>\n",
       "      <td>669.0</td>\n",
       "      <td>2024-01-02</td>\n",
       "      <td>COPPEL</td>\n",
       "      <td>TIENDA DE ELECTRODOMÉSTICOS</td>\n",
       "      <td>COPPEL SUCURSAL ESPACIO AGUASCALIENTES</td>\n",
       "      <td>TECNOLOGICO 120, INT. CENTRO COMERCIAL ESPACIO...</td>\n",
       "      <td>AGUASCALIENTES</td>\n",
       "      <td>AGUASCALIENTES</td>\n",
       "      <td>21.87949</td>\n",
       "      <td>-102.260011</td>\n",
       "    </tr>\n",
       "  </tbody>\n",
       "</table>\n",
       "</div>"
      ],
      "text/plain": [
       "          PRODUCTO                                       PRESENTACION  \\\n",
       "0      ASPIRADORAS                   HV-120 KG3 A. POTENCIA 400 WATTS   \n",
       "1  BARRA DE SONIDO  S40 Q. BLUETOOTH, USB. POTENCIA 300 W. SONIDO 2.1   \n",
       "2  BARRA DE SONIDO  HT-S20R. BLUETOOTH, USB. POTENCIA 400 W. SONID...   \n",
       "3  BARRA DE SONIDO  S-400 O HT-S400. BLUETOOTH. USB. POTENCIA 330 ...   \n",
       "4        BATIDORAS  FPSTHM3532 O FPSTHM3532-013. MANUAL. 6 VELOCID...   \n",
       "\n",
       "                                      MARCA              CATEGORIA  \\\n",
       "0  KOBLENZ. ASPIRADORA MANUAL DE ALTO PODER    APARATOS ELECTRICOS   \n",
       "1                                        LG  APARATOS ELECTRONICOS   \n",
       "2                                      SONY  APARATOS ELECTRONICOS   \n",
       "3                                      SONY  APARATOS ELECTRONICOS   \n",
       "4                                     OSTER    APARATOS ELECTRICOS   \n",
       "\n",
       "            CATALOGO  PRECIO FECHA_REGISTRO CADENA_COMERCIAL  \\\n",
       "0  ELECTRODOMESTICOS   899.0     2024-01-02           COPPEL   \n",
       "1  ELECTRODOMESTICOS  4299.0     2024-01-02           COPPEL   \n",
       "2  ELECTRODOMESTICOS  4499.0     2024-01-02           COPPEL   \n",
       "3  ELECTRODOMESTICOS  4899.0     2024-01-02           COPPEL   \n",
       "4  ELECTRODOMESTICOS   669.0     2024-01-02           COPPEL   \n",
       "\n",
       "                          GIRO                        NOMBRE_COMERCIAL  \\\n",
       "0  TIENDA DE ELECTRODOMÉSTICOS  COPPEL SUCURSAL ESPACIO AGUASCALIENTES   \n",
       "1  TIENDA DE ELECTRODOMÉSTICOS  COPPEL SUCURSAL ESPACIO AGUASCALIENTES   \n",
       "2  TIENDA DE ELECTRODOMÉSTICOS  COPPEL SUCURSAL ESPACIO AGUASCALIENTES   \n",
       "3  TIENDA DE ELECTRODOMÉSTICOS  COPPEL SUCURSAL ESPACIO AGUASCALIENTES   \n",
       "4  TIENDA DE ELECTRODOMÉSTICOS  COPPEL SUCURSAL ESPACIO AGUASCALIENTES   \n",
       "\n",
       "                                           DIRECCION          ESTADO  \\\n",
       "0  TECNOLOGICO 120, INT. CENTRO COMERCIAL ESPACIO...  AGUASCALIENTES   \n",
       "1  TECNOLOGICO 120, INT. CENTRO COMERCIAL ESPACIO...  AGUASCALIENTES   \n",
       "2  TECNOLOGICO 120, INT. CENTRO COMERCIAL ESPACIO...  AGUASCALIENTES   \n",
       "3  TECNOLOGICO 120, INT. CENTRO COMERCIAL ESPACIO...  AGUASCALIENTES   \n",
       "4  TECNOLOGICO 120, INT. CENTRO COMERCIAL ESPACIO...  AGUASCALIENTES   \n",
       "\n",
       "        MUNICIPIO   LATITUD    LONGITUD  \n",
       "0  AGUASCALIENTES  21.87949 -102.260011  \n",
       "1  AGUASCALIENTES  21.87949 -102.260011  \n",
       "2  AGUASCALIENTES  21.87949 -102.260011  \n",
       "3  AGUASCALIENTES  21.87949 -102.260011  \n",
       "4  AGUASCALIENTES  21.87949 -102.260011  "
      ]
     },
     "execution_count": 11,
     "metadata": {},
     "output_type": "execute_result"
    }
   ],
   "source": [
    "df_01_2024_P1.head()"
   ]
  },
  {
   "cell_type": "code",
   "execution_count": 12,
   "id": "23addcd9-a3dd-4992-8586-5014f63f9b61",
   "metadata": {
    "tags": []
   },
   "outputs": [],
   "source": [
    "df_01_2024 = pd.concat([df_01_2024_P1, df_01_2024_P2])\n",
    "df_02_2024 = pd.concat([df_02_2024_P1, df_02_2024_P2])\n",
    "df_03_2024 = pd.concat([df_03_2024_P1, df_03_2024_P2])\n",
    "df_04_2024 = pd.concat([df_04_2024_P1, df_04_2024_P2])\n",
    "df_05_2024 = pd.concat([df_05_2024_P1, df_05_2024_P2])"
   ]
  },
  {
   "cell_type": "code",
   "execution_count": 13,
   "id": "eb85b346-8073-4cff-aafa-62eea1454bf9",
   "metadata": {
    "tags": []
   },
   "outputs": [],
   "source": [
    "df_list = [df_01_2024,df_02_2024,df_03_2024,df_04_2024,df_05_2024] "
   ]
  },
  {
   "cell_type": "code",
   "execution_count": 14,
   "id": "ce538ada-9007-4c92-9ba2-5a3bbd0aff04",
   "metadata": {
    "tags": []
   },
   "outputs": [
    {
     "name": "stdout",
     "output_type": "stream",
     "text": [
      "La cantidad de categorias es 41\n",
      "La cantidad de categorias es 41\n",
      "La cantidad de categorias es 42\n",
      "La cantidad de categorias es 42\n",
      "La cantidad de categorias es 42\n"
     ]
    }
   ],
   "source": [
    "for month in df_list:\n",
    "    print(f\"La cantidad de categorias es {len(month.CATEGORIA.unique())}\")"
   ]
  },
  {
   "cell_type": "code",
   "execution_count": 15,
   "id": "46a68138-b4ff-4e79-a5ce-7545b2828f2f",
   "metadata": {
    "tags": []
   },
   "outputs": [],
   "source": [
    "#print(f\"La cantidad de categorias es {len(df_05_2024.CATEGORIA.unique())}\")"
   ]
  },
  {
   "cell_type": "code",
   "execution_count": 16,
   "id": "168cc114-3c22-488f-b20f-eb56caa1e2e0",
   "metadata": {
    "tags": []
   },
   "outputs": [],
   "source": [
    "#print(f\"La cantidad de cadenas comerciales monitoreadas es {len(df_05_2024_P2.CADENA_COMERCIAL.unique())}\")"
   ]
  },
  {
   "cell_type": "code",
   "execution_count": 17,
   "id": "deb39296-535b-489e-8978-f887ef5912e1",
   "metadata": {
    "tags": []
   },
   "outputs": [
    {
     "name": "stdout",
     "output_type": "stream",
     "text": [
      "La cantidad de cadenas comerciales monitoreadas es 193\n",
      "La cantidad de cadenas comerciales monitoreadas es 196\n",
      "La cantidad de cadenas comerciales monitoreadas es 188\n",
      "La cantidad de cadenas comerciales monitoreadas es 189\n",
      "La cantidad de cadenas comerciales monitoreadas es 138\n"
     ]
    }
   ],
   "source": [
    "for month in df_list:\n",
    "    print(f\"La cantidad de cadenas comerciales monitoreadas es {len(month.CADENA_COMERCIAL.unique())}\")"
   ]
  },
  {
   "cell_type": "code",
   "execution_count": 18,
   "id": "e538372e-2b47-447b-856b-ef461a62764a",
   "metadata": {
    "tags": []
   },
   "outputs": [],
   "source": [
    "#######################################################################"
   ]
  },
  {
   "cell_type": "code",
   "execution_count": 19,
   "id": "ff46c89d-1f73-4858-bbac-c485cef1c1fc",
   "metadata": {
    "tags": []
   },
   "outputs": [],
   "source": [
    "df_qqp_024 = pd.concat([df_01_2024_P1, df_01_2024_P2, df_02_2024_P1, df_02_2024_P2, df_03_2024_P1,\n",
    "                        df_03_2024_P2, df_04_2024_P1, df_04_2024_P2, df_05_2024_P1, df_05_2024_P2])\n"
   ]
  },
  {
   "cell_type": "code",
   "execution_count": 20,
   "id": "08c19034-1d7d-488c-b026-53014cef2d2c",
   "metadata": {
    "tags": []
   },
   "outputs": [
    {
     "data": {
      "text/plain": [
       "(5867689, 15)"
      ]
     },
     "execution_count": 20,
     "metadata": {},
     "output_type": "execute_result"
    }
   ],
   "source": [
    "df_qqp_024.shape"
   ]
  },
  {
   "cell_type": "code",
   "execution_count": 21,
   "id": "70f08e11-d5e4-49ef-9c7d-27b338745b38",
   "metadata": {
    "tags": []
   },
   "outputs": [
    {
     "name": "stdout",
     "output_type": "stream",
     "text": [
      "La cantidad de categorias es 42\n"
     ]
    }
   ],
   "source": [
    "print(f\"La cantidad de categorias es {len(df_qqp_024.CATEGORIA.unique())}\")"
   ]
  },
  {
   "cell_type": "code",
   "execution_count": 22,
   "id": "4ebcd348-e2ad-4db4-8ba2-da943cbb466f",
   "metadata": {
    "tags": []
   },
   "outputs": [
    {
     "name": "stdout",
     "output_type": "stream",
     "text": [
      "La cantidad de cadenas comerciales monitoreadas es 214\n"
     ]
    }
   ],
   "source": [
    "print(f\"La cantidad de cadenas comerciales monitoreadas es {len(df_qqp_024.CADENA_COMERCIAL.unique())}\")"
   ]
  },
  {
   "cell_type": "code",
   "execution_count": 23,
   "id": "c6869d22-862d-4f17-8f4f-f8e494727107",
   "metadata": {
    "tags": []
   },
   "outputs": [],
   "source": [
    "df_grouped = df_qqp_024.groupby(['ESTADO','CATEGORIA']).size().reset_index(name='count')"
   ]
  },
  {
   "cell_type": "code",
   "execution_count": 24,
   "id": "da0f6c57-47ef-4c59-8db5-e2884d980b2b",
   "metadata": {
    "tags": []
   },
   "outputs": [
    {
     "data": {
      "text/html": [
       "<div>\n",
       "<style scoped>\n",
       "    .dataframe tbody tr th:only-of-type {\n",
       "        vertical-align: middle;\n",
       "    }\n",
       "\n",
       "    .dataframe tbody tr th {\n",
       "        vertical-align: top;\n",
       "    }\n",
       "\n",
       "    .dataframe thead th {\n",
       "        text-align: right;\n",
       "    }\n",
       "</style>\n",
       "<table border=\"1\" class=\"dataframe\">\n",
       "  <thead>\n",
       "    <tr style=\"text-align: right;\">\n",
       "      <th></th>\n",
       "      <th>ESTADO</th>\n",
       "      <th>CATEGORIA</th>\n",
       "      <th>count</th>\n",
       "    </tr>\n",
       "  </thead>\n",
       "  <tbody>\n",
       "    <tr>\n",
       "      <th>32</th>\n",
       "      <td>AGUASCALIENTES</td>\n",
       "      <td>MEDICAMENTOS</td>\n",
       "      <td>29119</td>\n",
       "    </tr>\n",
       "    <tr>\n",
       "      <th>74</th>\n",
       "      <td>BAJA CALIFORNIA</td>\n",
       "      <td>MEDICAMENTOS</td>\n",
       "      <td>32931</td>\n",
       "    </tr>\n",
       "    <tr>\n",
       "      <th>116</th>\n",
       "      <td>BAJA CALIFORNIA SUR</td>\n",
       "      <td>MEDICAMENTOS</td>\n",
       "      <td>25988</td>\n",
       "    </tr>\n",
       "    <tr>\n",
       "      <th>157</th>\n",
       "      <td>CAMPECHE</td>\n",
       "      <td>MEDICAMENTOS</td>\n",
       "      <td>30269</td>\n",
       "    </tr>\n",
       "    <tr>\n",
       "      <th>196</th>\n",
       "      <td>CHIAPAS</td>\n",
       "      <td>MEDICAMENTOS</td>\n",
       "      <td>13826</td>\n",
       "    </tr>\n",
       "    <tr>\n",
       "      <th>238</th>\n",
       "      <td>CHIHUAHUA</td>\n",
       "      <td>MEDICAMENTOS</td>\n",
       "      <td>34194</td>\n",
       "    </tr>\n",
       "    <tr>\n",
       "      <th>280</th>\n",
       "      <td>CIUDAD DE MÉXICO</td>\n",
       "      <td>MEDICAMENTOS</td>\n",
       "      <td>256474</td>\n",
       "    </tr>\n",
       "    <tr>\n",
       "      <th>322</th>\n",
       "      <td>COAHUILA DE ZARAGOZA</td>\n",
       "      <td>MEDICAMENTOS</td>\n",
       "      <td>31266</td>\n",
       "    </tr>\n",
       "    <tr>\n",
       "      <th>364</th>\n",
       "      <td>DURANGO</td>\n",
       "      <td>MEDICAMENTOS</td>\n",
       "      <td>28101</td>\n",
       "    </tr>\n",
       "    <tr>\n",
       "      <th>406</th>\n",
       "      <td>ESTADO DE MÉXICO</td>\n",
       "      <td>MEDICAMENTOS</td>\n",
       "      <td>162099</td>\n",
       "    </tr>\n",
       "    <tr>\n",
       "      <th>448</th>\n",
       "      <td>GUANAJUATO</td>\n",
       "      <td>MEDICAMENTOS</td>\n",
       "      <td>52851</td>\n",
       "    </tr>\n",
       "    <tr>\n",
       "      <th>490</th>\n",
       "      <td>GUERRERO</td>\n",
       "      <td>MEDICAMENTOS</td>\n",
       "      <td>9575</td>\n",
       "    </tr>\n",
       "    <tr>\n",
       "      <th>532</th>\n",
       "      <td>HIDALGO</td>\n",
       "      <td>MEDICAMENTOS</td>\n",
       "      <td>6047</td>\n",
       "    </tr>\n",
       "    <tr>\n",
       "      <th>574</th>\n",
       "      <td>JALISCO</td>\n",
       "      <td>MEDICAMENTOS</td>\n",
       "      <td>44362</td>\n",
       "    </tr>\n",
       "    <tr>\n",
       "      <th>615</th>\n",
       "      <td>MICHOACÁN DE OCAMPO</td>\n",
       "      <td>MEDICAMENTOS</td>\n",
       "      <td>29997</td>\n",
       "    </tr>\n",
       "    <tr>\n",
       "      <th>657</th>\n",
       "      <td>MORELOS</td>\n",
       "      <td>MEDICAMENTOS</td>\n",
       "      <td>14197</td>\n",
       "    </tr>\n",
       "    <tr>\n",
       "      <th>699</th>\n",
       "      <td>NUEVO LEÓN</td>\n",
       "      <td>MEDICAMENTOS</td>\n",
       "      <td>52247</td>\n",
       "    </tr>\n",
       "    <tr>\n",
       "      <th>741</th>\n",
       "      <td>OAXACA</td>\n",
       "      <td>MEDICAMENTOS</td>\n",
       "      <td>21599</td>\n",
       "    </tr>\n",
       "    <tr>\n",
       "      <th>783</th>\n",
       "      <td>PUEBLA</td>\n",
       "      <td>MEDICAMENTOS</td>\n",
       "      <td>25932</td>\n",
       "    </tr>\n",
       "    <tr>\n",
       "      <th>825</th>\n",
       "      <td>QUERÉTARO</td>\n",
       "      <td>MEDICAMENTOS</td>\n",
       "      <td>45319</td>\n",
       "    </tr>\n",
       "    <tr>\n",
       "      <th>866</th>\n",
       "      <td>QUINTANA ROO</td>\n",
       "      <td>MEDICAMENTOS</td>\n",
       "      <td>41699</td>\n",
       "    </tr>\n",
       "    <tr>\n",
       "      <th>908</th>\n",
       "      <td>SAN LUIS POTOSÍ</td>\n",
       "      <td>MEDICAMENTOS</td>\n",
       "      <td>31238</td>\n",
       "    </tr>\n",
       "    <tr>\n",
       "      <th>934</th>\n",
       "      <td>SINALOA</td>\n",
       "      <td>HORTALIZAS FRESCAS</td>\n",
       "      <td>3089</td>\n",
       "    </tr>\n",
       "    <tr>\n",
       "      <th>975</th>\n",
       "      <td>SONORA</td>\n",
       "      <td>MEDICAMENTOS</td>\n",
       "      <td>29471</td>\n",
       "    </tr>\n",
       "    <tr>\n",
       "      <th>1016</th>\n",
       "      <td>TABASCO</td>\n",
       "      <td>MEDICAMENTOS</td>\n",
       "      <td>42746</td>\n",
       "    </tr>\n",
       "    <tr>\n",
       "      <th>1058</th>\n",
       "      <td>TAMAULIPAS</td>\n",
       "      <td>MEDICAMENTOS</td>\n",
       "      <td>20969</td>\n",
       "    </tr>\n",
       "    <tr>\n",
       "      <th>1100</th>\n",
       "      <td>TLAXCALA</td>\n",
       "      <td>MEDICAMENTOS</td>\n",
       "      <td>16694</td>\n",
       "    </tr>\n",
       "    <tr>\n",
       "      <th>1142</th>\n",
       "      <td>VERACRUZ</td>\n",
       "      <td>MEDICAMENTOS</td>\n",
       "      <td>33060</td>\n",
       "    </tr>\n",
       "    <tr>\n",
       "      <th>1183</th>\n",
       "      <td>YUCATÁN</td>\n",
       "      <td>MEDICAMENTOS</td>\n",
       "      <td>36176</td>\n",
       "    </tr>\n",
       "    <tr>\n",
       "      <th>1225</th>\n",
       "      <td>ZACATECAS</td>\n",
       "      <td>MEDICAMENTOS</td>\n",
       "      <td>44326</td>\n",
       "    </tr>\n",
       "  </tbody>\n",
       "</table>\n",
       "</div>"
      ],
      "text/plain": [
       "                    ESTADO           CATEGORIA   count\n",
       "32          AGUASCALIENTES        MEDICAMENTOS   29119\n",
       "74         BAJA CALIFORNIA        MEDICAMENTOS   32931\n",
       "116    BAJA CALIFORNIA SUR        MEDICAMENTOS   25988\n",
       "157               CAMPECHE        MEDICAMENTOS   30269\n",
       "196                CHIAPAS        MEDICAMENTOS   13826\n",
       "238              CHIHUAHUA        MEDICAMENTOS   34194\n",
       "280       CIUDAD DE MÉXICO        MEDICAMENTOS  256474\n",
       "322   COAHUILA DE ZARAGOZA        MEDICAMENTOS   31266\n",
       "364                DURANGO        MEDICAMENTOS   28101\n",
       "406       ESTADO DE MÉXICO        MEDICAMENTOS  162099\n",
       "448             GUANAJUATO        MEDICAMENTOS   52851\n",
       "490               GUERRERO        MEDICAMENTOS    9575\n",
       "532                HIDALGO        MEDICAMENTOS    6047\n",
       "574                JALISCO        MEDICAMENTOS   44362\n",
       "615    MICHOACÁN DE OCAMPO        MEDICAMENTOS   29997\n",
       "657                MORELOS        MEDICAMENTOS   14197\n",
       "699             NUEVO LEÓN        MEDICAMENTOS   52247\n",
       "741                 OAXACA        MEDICAMENTOS   21599\n",
       "783                 PUEBLA        MEDICAMENTOS   25932\n",
       "825              QUERÉTARO        MEDICAMENTOS   45319\n",
       "866           QUINTANA ROO        MEDICAMENTOS   41699\n",
       "908        SAN LUIS POTOSÍ        MEDICAMENTOS   31238\n",
       "934                SINALOA  HORTALIZAS FRESCAS    3089\n",
       "975                 SONORA        MEDICAMENTOS   29471\n",
       "1016               TABASCO        MEDICAMENTOS   42746\n",
       "1058            TAMAULIPAS        MEDICAMENTOS   20969\n",
       "1100              TLAXCALA        MEDICAMENTOS   16694\n",
       "1142              VERACRUZ        MEDICAMENTOS   33060\n",
       "1183               YUCATÁN        MEDICAMENTOS   36176\n",
       "1225             ZACATECAS        MEDICAMENTOS   44326"
      ]
     },
     "execution_count": 24,
     "metadata": {},
     "output_type": "execute_result"
    }
   ],
   "source": [
    "max_category_per_state = df_grouped.loc[df_grouped.groupby('ESTADO')['count'].idxmax()]\n",
    "\n",
    "max_category_per_state"
   ]
  },
  {
   "cell_type": "code",
   "execution_count": 25,
   "id": "836a68d0-9d13-4c46-80e8-bdaea6e64196",
   "metadata": {
    "tags": []
   },
   "outputs": [
    {
     "data": {
      "text/plain": [
       "WAL-MART                920516\n",
       "HIPERMERCADO SORIANA    644258\n",
       "BODEGA AURRERA          630006\n",
       "MEGA SORIANA            497145\n",
       "CHEDRAUI                417032\n",
       "Name: CADENA_COMERCIAL, dtype: int64"
      ]
     },
     "execution_count": 25,
     "metadata": {},
     "output_type": "execute_result"
    }
   ],
   "source": [
    "df_qqp_024[\"CADENA_COMERCIAL\"].value_counts().head(5)"
   ]
  },
  {
   "cell_type": "code",
   "execution_count": null,
   "id": "71cdd433-90ed-4516-ada6-fd0def5a56de",
   "metadata": {},
   "outputs": [],
   "source": []
  }
 ],
 "metadata": {
  "kernelspec": {
   "display_name": "conda_pytorch_p310",
   "language": "python",
   "name": "conda_pytorch_p310"
  },
  "language_info": {
   "codemirror_mode": {
    "name": "ipython",
    "version": 3
   },
   "file_extension": ".py",
   "mimetype": "text/x-python",
   "name": "python",
   "nbconvert_exporter": "python",
   "pygments_lexer": "ipython3",
   "version": "3.10.14"
  }
 },
 "nbformat": 4,
 "nbformat_minor": 5
}
